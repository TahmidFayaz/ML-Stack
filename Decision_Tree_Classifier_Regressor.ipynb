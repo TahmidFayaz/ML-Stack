{
  "nbformat": 4,
  "nbformat_minor": 0,
  "metadata": {
    "colab": {
      "provenance": []
    },
    "kernelspec": {
      "name": "python3",
      "display_name": "Python 3"
    },
    "language_info": {
      "name": "python"
    }
  },
  "cells": [
    {
      "cell_type": "code",
      "execution_count": null,
      "metadata": {
        "id": "Yx-w5SH-X8ge"
      },
      "outputs": [],
      "source": [
        "#Fitting the Model (Classifier)\n",
        "from sklearn.tree import DecisionTreeClassifier\n",
        "\n",
        "model =DecisionTreeClassifier()\n",
        "model.fit(x_train,y_train)\n",
        "\n",
        "y_pred=model.predict(x_test)\n",
        "\n",
        "#We want to customize the max depth parameter\n",
        "\n",
        "model=DecisionTreeClassifier(max_depth=5,random_state=0)\n",
        "model.fit(x_train,y_train)\n",
        "y_pred=model.predict(x_test)\n",
        "\n"
      ]
    },
    {
      "cell_type": "code",
      "source": [
        "#Fitting the Model (Classifier)\n",
        "from sklearn.tree import DecisionTreeRegressor\n",
        "\n",
        "model =DecisionTreeRegressor()\n",
        "model.fit(x_train,y_train)\n",
        "\n",
        "y_pred=model.predict(x_test)\n",
        "\n",
        "#We want to customize the  parameters\n",
        "\n",
        "model=DecisionTreeRegressor(max_depth=5,random_state=0,max_features=40,min_sample_leaf=4)\n",
        "model.fit(x_train,y_train)\n",
        "y_pred=model.predict(x_test)\n"
      ],
      "metadata": {
        "id": "NxpvFjfnYrzy"
      },
      "execution_count": null,
      "outputs": []
    }
  ]
}